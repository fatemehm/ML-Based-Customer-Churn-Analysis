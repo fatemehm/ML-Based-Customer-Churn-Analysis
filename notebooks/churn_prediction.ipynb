{
 "cells": [
  {
   "cell_type": "code",
   "execution_count": null,
   "id": "6a54a189",
   "metadata": {
    "vscode": {
     "languageId": "plaintext"
    }
   },
   "outputs": [],
   "source": [
    "import pandas as pd\n",
    "import numpy as np\n",
    "import matplotlib.pyplot as plt\n",
    "import seaborn as sns\n",
    "\n",
    "# Load data\n",
    "df = pd.read_csv('../data/Telco-Customer-Churn.csv')  # Adjust path if needed\n",
    "\n",
    "# Basic info\n",
    "print(df.shape)  # Should be (7043, 21)\n",
    "print(df.info())\n",
    "print(df.describe())\n",
    "\n",
    "# Handle TotalCharges\n",
    "df['TotalCharges'] = pd.to_numeric(df['TotalCharges'], errors='coerce')\n",
    "df.dropna(subset=['TotalCharges'], inplace=True)\n",
    "\n",
    "# Target distribution\n",
    "sns.countplot(x='Churn', data=df)\n",
    "plt.title('Churn Distribution')\n",
    "plt.savefig('../diagrams/churn_dist.png')  # Save plot\n",
    "plt.show()\n",
    "\n",
    "# Numerical pairplot\n",
    "numerical_cols = ['tenure', 'MonthlyCharges', 'TotalCharges']\n",
    "sns.pairplot(df[numerical_cols + ['Churn']], hue='Churn')\n",
    "plt.savefig('../diagrams/pairplot.png')\n",
    "plt.show()\n",
    "\n",
    "# Categorical vs Churn\n",
    "categorical_cols = ['gender', 'SeniorCitizen', 'Partner', 'Dependents', 'PhoneService', 'MultipleLines', \n",
    "                    'InternetService', 'OnlineSecurity', 'OnlineBackup', 'DeviceProtection', 'TechSupport', \n",
    "                    'StreamingTV', 'StreamingMovies', 'Contract', 'PaperlessBilling', 'PaymentMethod']\n",
    "for col in categorical_cols:\n",
    "    sns.countplot(x=col, hue='Churn', data=df)\n",
    "    plt.title(f'{col} vs Churn')\n",
    "    plt.savefig(f'../diagrams/{col}_vs_churn.png')\n",
    "    plt.show()"
   ]
  }
 ],
 "metadata": {
  "language_info": {
   "name": "python"
  }
 },
 "nbformat": 4,
 "nbformat_minor": 5
}
